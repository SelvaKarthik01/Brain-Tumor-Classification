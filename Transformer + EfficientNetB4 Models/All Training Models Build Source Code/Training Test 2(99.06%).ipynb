{
  "cells": [
    {
      "cell_type": "code",
      "execution_count": null,
      "metadata": {
        "colab": {
          "base_uri": "https://localhost:8080/"
        },
        "id": "ce4gPauqs1t4",
        "outputId": "d94617e4-0f05-4e55-9904-3befa1436db0"
      },
      "outputs": [
        {
          "name": "stdout",
          "output_type": "stream",
          "text": [
            "Requirement already satisfied: tensorflow in /usr/local/lib/python3.10/dist-packages (2.15.0)\n",
            "Requirement already satisfied: tensorflow_hub in /usr/local/lib/python3.10/dist-packages (0.16.1)\n",
            "Requirement already satisfied: absl-py>=1.0.0 in /usr/local/lib/python3.10/dist-packages (from tensorflow) (1.4.0)\n",
            "Requirement already satisfied: astunparse>=1.6.0 in /usr/local/lib/python3.10/dist-packages (from tensorflow) (1.6.3)\n",
            "Requirement already satisfied: flatbuffers>=23.5.26 in /usr/local/lib/python3.10/dist-packages (from tensorflow) (24.3.25)\n",
            "Requirement already satisfied: gast!=0.5.0,!=0.5.1,!=0.5.2,>=0.2.1 in /usr/local/lib/python3.10/dist-packages (from tensorflow) (0.6.0)\n",
            "Requirement already satisfied: google-pasta>=0.1.1 in /usr/local/lib/python3.10/dist-packages (from tensorflow) (0.2.0)\n",
            "Requirement already satisfied: h5py>=2.9.0 in /usr/local/lib/python3.10/dist-packages (from tensorflow) (3.11.0)\n",
            "Requirement already satisfied: libclang>=13.0.0 in /usr/local/lib/python3.10/dist-packages (from tensorflow) (18.1.1)\n",
            "Requirement already satisfied: ml-dtypes~=0.2.0 in /usr/local/lib/python3.10/dist-packages (from tensorflow) (0.2.0)\n",
            "Requirement already satisfied: numpy<2.0.0,>=1.23.5 in /usr/local/lib/python3.10/dist-packages (from tensorflow) (1.25.2)\n",
            "Requirement already satisfied: opt-einsum>=2.3.2 in /usr/local/lib/python3.10/dist-packages (from tensorflow) (3.3.0)\n",
            "Requirement already satisfied: packaging in /usr/local/lib/python3.10/dist-packages (from tensorflow) (24.1)\n",
            "Requirement already satisfied: protobuf!=4.21.0,!=4.21.1,!=4.21.2,!=4.21.3,!=4.21.4,!=4.21.5,<5.0.0dev,>=3.20.3 in /usr/local/lib/python3.10/dist-packages (from tensorflow) (3.20.3)\n",
            "Requirement already satisfied: setuptools in /usr/local/lib/python3.10/dist-packages (from tensorflow) (71.0.4)\n",
            "Requirement already satisfied: six>=1.12.0 in /usr/local/lib/python3.10/dist-packages (from tensorflow) (1.16.0)\n",
            "Requirement already satisfied: termcolor>=1.1.0 in /usr/local/lib/python3.10/dist-packages (from tensorflow) (2.4.0)\n",
            "Requirement already satisfied: typing-extensions>=3.6.6 in /usr/local/lib/python3.10/dist-packages (from tensorflow) (4.12.2)\n",
            "Requirement already satisfied: wrapt<1.15,>=1.11.0 in /usr/local/lib/python3.10/dist-packages (from tensorflow) (1.14.1)\n",
            "Requirement already satisfied: tensorflow-io-gcs-filesystem>=0.23.1 in /usr/local/lib/python3.10/dist-packages (from tensorflow) (0.37.1)\n",
            "Requirement already satisfied: grpcio<2.0,>=1.24.3 in /usr/local/lib/python3.10/dist-packages (from tensorflow) (1.64.1)\n",
            "Requirement already satisfied: tensorboard<2.16,>=2.15 in /usr/local/lib/python3.10/dist-packages (from tensorflow) (2.15.2)\n",
            "Requirement already satisfied: tensorflow-estimator<2.16,>=2.15.0 in /usr/local/lib/python3.10/dist-packages (from tensorflow) (2.15.0)\n",
            "Requirement already satisfied: keras<2.16,>=2.15.0 in /usr/local/lib/python3.10/dist-packages (from tensorflow) (2.15.0)\n",
            "Requirement already satisfied: tf-keras>=2.14.1 in /usr/local/lib/python3.10/dist-packages (from tensorflow_hub) (2.15.1)\n",
            "Requirement already satisfied: wheel<1.0,>=0.23.0 in /usr/local/lib/python3.10/dist-packages (from astunparse>=1.6.0->tensorflow) (0.43.0)\n",
            "Requirement already satisfied: google-auth<3,>=1.6.3 in /usr/local/lib/python3.10/dist-packages (from tensorboard<2.16,>=2.15->tensorflow) (2.27.0)\n",
            "Requirement already satisfied: google-auth-oauthlib<2,>=0.5 in /usr/local/lib/python3.10/dist-packages (from tensorboard<2.16,>=2.15->tensorflow) (1.2.1)\n",
            "Requirement already satisfied: markdown>=2.6.8 in /usr/local/lib/python3.10/dist-packages (from tensorboard<2.16,>=2.15->tensorflow) (3.6)\n",
            "Requirement already satisfied: requests<3,>=2.21.0 in /usr/local/lib/python3.10/dist-packages (from tensorboard<2.16,>=2.15->tensorflow) (2.31.0)\n",
            "Requirement already satisfied: tensorboard-data-server<0.8.0,>=0.7.0 in /usr/local/lib/python3.10/dist-packages (from tensorboard<2.16,>=2.15->tensorflow) (0.7.2)\n",
            "Requirement already satisfied: werkzeug>=1.0.1 in /usr/local/lib/python3.10/dist-packages (from tensorboard<2.16,>=2.15->tensorflow) (3.0.3)\n",
            "Requirement already satisfied: cachetools<6.0,>=2.0.0 in /usr/local/lib/python3.10/dist-packages (from google-auth<3,>=1.6.3->tensorboard<2.16,>=2.15->tensorflow) (5.4.0)\n",
            "Requirement already satisfied: pyasn1-modules>=0.2.1 in /usr/local/lib/python3.10/dist-packages (from google-auth<3,>=1.6.3->tensorboard<2.16,>=2.15->tensorflow) (0.4.0)\n",
            "Requirement already satisfied: rsa<5,>=3.1.4 in /usr/local/lib/python3.10/dist-packages (from google-auth<3,>=1.6.3->tensorboard<2.16,>=2.15->tensorflow) (4.9)\n",
            "Requirement already satisfied: requests-oauthlib>=0.7.0 in /usr/local/lib/python3.10/dist-packages (from google-auth-oauthlib<2,>=0.5->tensorboard<2.16,>=2.15->tensorflow) (1.3.1)\n",
            "Requirement already satisfied: charset-normalizer<4,>=2 in /usr/local/lib/python3.10/dist-packages (from requests<3,>=2.21.0->tensorboard<2.16,>=2.15->tensorflow) (3.3.2)\n",
            "Requirement already satisfied: idna<4,>=2.5 in /usr/local/lib/python3.10/dist-packages (from requests<3,>=2.21.0->tensorboard<2.16,>=2.15->tensorflow) (3.7)\n",
            "Requirement already satisfied: urllib3<3,>=1.21.1 in /usr/local/lib/python3.10/dist-packages (from requests<3,>=2.21.0->tensorboard<2.16,>=2.15->tensorflow) (2.0.7)\n",
            "Requirement already satisfied: certifi>=2017.4.17 in /usr/local/lib/python3.10/dist-packages (from requests<3,>=2.21.0->tensorboard<2.16,>=2.15->tensorflow) (2024.7.4)\n",
            "Requirement already satisfied: MarkupSafe>=2.1.1 in /usr/local/lib/python3.10/dist-packages (from werkzeug>=1.0.1->tensorboard<2.16,>=2.15->tensorflow) (2.1.5)\n",
            "Requirement already satisfied: pyasn1<0.7.0,>=0.4.6 in /usr/local/lib/python3.10/dist-packages (from pyasn1-modules>=0.2.1->google-auth<3,>=1.6.3->tensorboard<2.16,>=2.15->tensorflow) (0.6.0)\n",
            "Requirement already satisfied: oauthlib>=3.0.0 in /usr/local/lib/python3.10/dist-packages (from requests-oauthlib>=0.7.0->google-auth-oauthlib<2,>=0.5->tensorboard<2.16,>=2.15->tensorflow) (3.2.2)\n"
          ]
        }
      ],
      "source": [
        "!pip install tensorflow tensorflow_hub\n"
      ]
    },
    {
      "cell_type": "code",
      "execution_count": null,
      "metadata": {
        "colab": {
          "base_uri": "https://localhost:8080/",
          "height": 74
        },
        "id": "8s33nXfXOWxc",
        "outputId": "83983f03-6327-4a0b-a425-142188c99540"
      },
      "outputs": [
        {
          "data": {
            "text/html": [
              "\n",
              "     <input type=\"file\" id=\"files-f8031619-6be8-4ac7-805f-50171974926c\" name=\"files[]\" multiple disabled\n",
              "        style=\"border:none\" />\n",
              "     <output id=\"result-f8031619-6be8-4ac7-805f-50171974926c\">\n",
              "      Upload widget is only available when the cell has been executed in the\n",
              "      current browser session. Please rerun this cell to enable.\n",
              "      </output>\n",
              "      <script>// Copyright 2017 Google LLC\n",
              "//\n",
              "// Licensed under the Apache License, Version 2.0 (the \"License\");\n",
              "// you may not use this file except in compliance with the License.\n",
              "// You may obtain a copy of the License at\n",
              "//\n",
              "//      http://www.apache.org/licenses/LICENSE-2.0\n",
              "//\n",
              "// Unless required by applicable law or agreed to in writing, software\n",
              "// distributed under the License is distributed on an \"AS IS\" BASIS,\n",
              "// WITHOUT WARRANTIES OR CONDITIONS OF ANY KIND, either express or implied.\n",
              "// See the License for the specific language governing permissions and\n",
              "// limitations under the License.\n",
              "\n",
              "/**\n",
              " * @fileoverview Helpers for google.colab Python module.\n",
              " */\n",
              "(function(scope) {\n",
              "function span(text, styleAttributes = {}) {\n",
              "  const element = document.createElement('span');\n",
              "  element.textContent = text;\n",
              "  for (const key of Object.keys(styleAttributes)) {\n",
              "    element.style[key] = styleAttributes[key];\n",
              "  }\n",
              "  return element;\n",
              "}\n",
              "\n",
              "// Max number of bytes which will be uploaded at a time.\n",
              "const MAX_PAYLOAD_SIZE = 100 * 1024;\n",
              "\n",
              "function _uploadFiles(inputId, outputId) {\n",
              "  const steps = uploadFilesStep(inputId, outputId);\n",
              "  const outputElement = document.getElementById(outputId);\n",
              "  // Cache steps on the outputElement to make it available for the next call\n",
              "  // to uploadFilesContinue from Python.\n",
              "  outputElement.steps = steps;\n",
              "\n",
              "  return _uploadFilesContinue(outputId);\n",
              "}\n",
              "\n",
              "// This is roughly an async generator (not supported in the browser yet),\n",
              "// where there are multiple asynchronous steps and the Python side is going\n",
              "// to poll for completion of each step.\n",
              "// This uses a Promise to block the python side on completion of each step,\n",
              "// then passes the result of the previous step as the input to the next step.\n",
              "function _uploadFilesContinue(outputId) {\n",
              "  const outputElement = document.getElementById(outputId);\n",
              "  const steps = outputElement.steps;\n",
              "\n",
              "  const next = steps.next(outputElement.lastPromiseValue);\n",
              "  return Promise.resolve(next.value.promise).then((value) => {\n",
              "    // Cache the last promise value to make it available to the next\n",
              "    // step of the generator.\n",
              "    outputElement.lastPromiseValue = value;\n",
              "    return next.value.response;\n",
              "  });\n",
              "}\n",
              "\n",
              "/**\n",
              " * Generator function which is called between each async step of the upload\n",
              " * process.\n",
              " * @param {string} inputId Element ID of the input file picker element.\n",
              " * @param {string} outputId Element ID of the output display.\n",
              " * @return {!Iterable<!Object>} Iterable of next steps.\n",
              " */\n",
              "function* uploadFilesStep(inputId, outputId) {\n",
              "  const inputElement = document.getElementById(inputId);\n",
              "  inputElement.disabled = false;\n",
              "\n",
              "  const outputElement = document.getElementById(outputId);\n",
              "  outputElement.innerHTML = '';\n",
              "\n",
              "  const pickedPromise = new Promise((resolve) => {\n",
              "    inputElement.addEventListener('change', (e) => {\n",
              "      resolve(e.target.files);\n",
              "    });\n",
              "  });\n",
              "\n",
              "  const cancel = document.createElement('button');\n",
              "  inputElement.parentElement.appendChild(cancel);\n",
              "  cancel.textContent = 'Cancel upload';\n",
              "  const cancelPromise = new Promise((resolve) => {\n",
              "    cancel.onclick = () => {\n",
              "      resolve(null);\n",
              "    };\n",
              "  });\n",
              "\n",
              "  // Wait for the user to pick the files.\n",
              "  const files = yield {\n",
              "    promise: Promise.race([pickedPromise, cancelPromise]),\n",
              "    response: {\n",
              "      action: 'starting',\n",
              "    }\n",
              "  };\n",
              "\n",
              "  cancel.remove();\n",
              "\n",
              "  // Disable the input element since further picks are not allowed.\n",
              "  inputElement.disabled = true;\n",
              "\n",
              "  if (!files) {\n",
              "    return {\n",
              "      response: {\n",
              "        action: 'complete',\n",
              "      }\n",
              "    };\n",
              "  }\n",
              "\n",
              "  for (const file of files) {\n",
              "    const li = document.createElement('li');\n",
              "    li.append(span(file.name, {fontWeight: 'bold'}));\n",
              "    li.append(span(\n",
              "        `(${file.type || 'n/a'}) - ${file.size} bytes, ` +\n",
              "        `last modified: ${\n",
              "            file.lastModifiedDate ? file.lastModifiedDate.toLocaleDateString() :\n",
              "                                    'n/a'} - `));\n",
              "    const percent = span('0% done');\n",
              "    li.appendChild(percent);\n",
              "\n",
              "    outputElement.appendChild(li);\n",
              "\n",
              "    const fileDataPromise = new Promise((resolve) => {\n",
              "      const reader = new FileReader();\n",
              "      reader.onload = (e) => {\n",
              "        resolve(e.target.result);\n",
              "      };\n",
              "      reader.readAsArrayBuffer(file);\n",
              "    });\n",
              "    // Wait for the data to be ready.\n",
              "    let fileData = yield {\n",
              "      promise: fileDataPromise,\n",
              "      response: {\n",
              "        action: 'continue',\n",
              "      }\n",
              "    };\n",
              "\n",
              "    // Use a chunked sending to avoid message size limits. See b/62115660.\n",
              "    let position = 0;\n",
              "    do {\n",
              "      const length = Math.min(fileData.byteLength - position, MAX_PAYLOAD_SIZE);\n",
              "      const chunk = new Uint8Array(fileData, position, length);\n",
              "      position += length;\n",
              "\n",
              "      const base64 = btoa(String.fromCharCode.apply(null, chunk));\n",
              "      yield {\n",
              "        response: {\n",
              "          action: 'append',\n",
              "          file: file.name,\n",
              "          data: base64,\n",
              "        },\n",
              "      };\n",
              "\n",
              "      let percentDone = fileData.byteLength === 0 ?\n",
              "          100 :\n",
              "          Math.round((position / fileData.byteLength) * 100);\n",
              "      percent.textContent = `${percentDone}% done`;\n",
              "\n",
              "    } while (position < fileData.byteLength);\n",
              "  }\n",
              "\n",
              "  // All done.\n",
              "  yield {\n",
              "    response: {\n",
              "      action: 'complete',\n",
              "    }\n",
              "  };\n",
              "}\n",
              "\n",
              "scope.google = scope.google || {};\n",
              "scope.google.colab = scope.google.colab || {};\n",
              "scope.google.colab._files = {\n",
              "  _uploadFiles,\n",
              "  _uploadFilesContinue,\n",
              "};\n",
              "})(self);\n",
              "</script> "
            ],
            "text/plain": [
              "<IPython.core.display.HTML object>"
            ]
          },
          "metadata": {},
          "output_type": "display_data"
        },
        {
          "name": "stdout",
          "output_type": "stream",
          "text": [
            "Saving Dataset Brain Tumor.zip to Dataset Brain Tumor.zip\n"
          ]
        }
      ],
      "source": [
        "from google.colab import files\n",
        "\n",
        "# This will prompt you to upload the zip file from your local machine\n",
        "uploaded =files.upload()"
      ]
    },
    {
      "cell_type": "code",
      "execution_count": null,
      "metadata": {
        "colab": {
          "base_uri": "https://localhost:8080/"
        },
        "id": "6JoKJnfSOdJC",
        "outputId": "26062c3c-a440-47bf-d5ac-79ea4e7b76ac"
      },
      "outputs": [
        {
          "data": {
            "text/plain": [
              "['Dataset Brain Tumor']"
            ]
          },
          "execution_count": 2,
          "metadata": {},
          "output_type": "execute_result"
        }
      ],
      "source": [
        "import zipfile\n",
        "import os\n",
        "\n",
        "# Specify the name of the uploaded zip file\n",
        "zip_file_name = 'Dataset Brain Tumor.zip'  # Change this if your zip file name is different\n",
        "\n",
        "# Unzip the file\n",
        "with zipfile.ZipFile(zip_file_name, 'r') as zip_ref:\n",
        "    zip_ref.extractall('Dataset Brain Tumor')\n",
        "\n",
        "# Verify the contents of the unzipped directory\n",
        "os.listdir('Dataset Brain Tumor')"
      ]
    },
    {
      "cell_type": "code",
      "execution_count": null,
      "metadata": {
        "colab": {
          "base_uri": "https://localhost:8080/"
        },
        "id": "fLtxLfS6s4_Z",
        "outputId": "7a4bc31e-7151-420a-f9b5-9c40b299e273"
      },
      "outputs": [
        {
          "name": "stdout",
          "output_type": "stream",
          "text": [
            "Found 5708 images belonging to 4 classes.\n",
            "Found 1273 images belonging to 4 classes.\n"
          ]
        }
      ],
      "source": [
        "import tensorflow as tf\n",
        "from tensorflow.keras.preprocessing.image import ImageDataGenerator\n",
        "\n",
        "# Define data augmentation parameters\n",
        "datagen = ImageDataGenerator(\n",
        "    rescale=1./255,\n",
        "    rotation_range=40,\n",
        "    width_shift_range=0.4,\n",
        "    height_shift_range=0.4,\n",
        "    shear_range=0.3,\n",
        "    zoom_range=0.4,\n",
        "    horizontal_flip=True,\n",
        "    vertical_flip=True,\n",
        "    fill_mode='nearest'\n",
        ")\n",
        "\n",
        "\n",
        "# Load training data with augmentation\n",
        "train_generator = datagen.flow_from_directory(\n",
        "    '/content/Dataset Brain Tumor/Dataset Brain Tumor/Training Dataset',\n",
        "    target_size=(240, 240),\n",
        "    batch_size=32,\n",
        "    class_mode='categorical'\n",
        ")\n",
        "\n",
        "# Load testing data without augmentation\n",
        "test_datagen = ImageDataGenerator(rescale=1./255)\n",
        "test_generator = test_datagen.flow_from_directory(\n",
        "    '/content/Dataset Brain Tumor/Dataset Brain Tumor/Testing Dataset',\n",
        "    target_size=(240, 240),\n",
        "    batch_size=32,\n",
        "    class_mode='categorical'\n",
        ")\n"
      ]
    },
    {
      "cell_type": "code",
      "execution_count": null,
      "metadata": {
        "colab": {
          "base_uri": "https://localhost:8080/"
        },
        "id": "BiR6D3UJmic1",
        "outputId": "3525f583-c033-47b1-af84-a44681e73666"
      },
      "outputs": [
        {
          "name": "stdout",
          "output_type": "stream",
          "text": [
            "Collecting tensorflow-addons\n",
            "  Downloading tensorflow_addons-0.23.0-cp310-cp310-manylinux_2_17_x86_64.manylinux2014_x86_64.whl.metadata (1.8 kB)\n",
            "Requirement already satisfied: packaging in /usr/local/lib/python3.10/dist-packages (from tensorflow-addons) (24.1)\n",
            "Collecting typeguard<3.0.0,>=2.7 (from tensorflow-addons)\n",
            "  Downloading typeguard-2.13.3-py3-none-any.whl.metadata (3.6 kB)\n",
            "Downloading tensorflow_addons-0.23.0-cp310-cp310-manylinux_2_17_x86_64.manylinux2014_x86_64.whl (611 kB)\n",
            "\u001b[?25l   \u001b[90m━━━━━━━━━━━━━━━━━━━━━━━━━━━━━━━━━━━━━━━━\u001b[0m \u001b[32m0.0/611.8 kB\u001b[0m \u001b[31m?\u001b[0m eta \u001b[36m-:--:--\u001b[0m\r\u001b[2K   \u001b[90m━━━━━━━━━━━━━━━━━━━━━━━━━━━━━━━━━━━━━━━━\u001b[0m \u001b[32m611.8/611.8 kB\u001b[0m \u001b[31m38.3 MB/s\u001b[0m eta \u001b[36m0:00:00\u001b[0m\n",
            "\u001b[?25hDownloading typeguard-2.13.3-py3-none-any.whl (17 kB)\n",
            "Installing collected packages: typeguard, tensorflow-addons\n",
            "  Attempting uninstall: typeguard\n",
            "    Found existing installation: typeguard 4.3.0\n",
            "    Uninstalling typeguard-4.3.0:\n",
            "      Successfully uninstalled typeguard-4.3.0\n",
            "\u001b[31mERROR: pip's dependency resolver does not currently take into account all the packages that are installed. This behaviour is the source of the following dependency conflicts.\n",
            "inflect 7.3.1 requires typeguard>=4.0.1, but you have typeguard 2.13.3 which is incompatible.\u001b[0m\u001b[31m\n",
            "\u001b[0mSuccessfully installed tensorflow-addons-0.23.0 typeguard-2.13.3\n"
          ]
        }
      ],
      "source": [
        "!pip install tensorflow-addons\n"
      ]
    },
    {
      "cell_type": "code",
      "execution_count": null,
      "metadata": {
        "colab": {
          "base_uri": "https://localhost:8080/"
        },
        "id": "VZRgO4IpDH9r",
        "outputId": "a6a571dd-2a99-4099-957c-dea2f699920b"
      },
      "outputs": [
        {
          "name": "stdout",
          "output_type": "stream",
          "text": [
            "Collecting vit-keras\n",
            "  Downloading vit_keras-0.1.2-py3-none-any.whl.metadata (4.0 kB)\n",
            "Requirement already satisfied: scipy in /usr/local/lib/python3.10/dist-packages (from vit-keras) (1.13.1)\n",
            "Collecting validators (from vit-keras)\n",
            "  Downloading validators-0.33.0-py3-none-any.whl.metadata (3.8 kB)\n",
            "Requirement already satisfied: numpy<2.3,>=1.22.4 in /usr/local/lib/python3.10/dist-packages (from scipy->vit-keras) (1.25.2)\n",
            "Downloading vit_keras-0.1.2-py3-none-any.whl (24 kB)\n",
            "Downloading validators-0.33.0-py3-none-any.whl (43 kB)\n",
            "\u001b[?25l   \u001b[90m━━━━━━━━━━━━━━━━━━━━━━━━━━━━━━━━━━━━━━━━\u001b[0m \u001b[32m0.0/43.3 kB\u001b[0m \u001b[31m?\u001b[0m eta \u001b[36m-:--:--\u001b[0m\r\u001b[2K   \u001b[90m━━━━━━━━━━━━━━━━━━━━━━━━━━━━━━━━━━━━━━━━\u001b[0m \u001b[32m43.3/43.3 kB\u001b[0m \u001b[31m4.1 MB/s\u001b[0m eta \u001b[36m0:00:00\u001b[0m\n",
            "\u001b[?25hInstalling collected packages: validators, vit-keras\n",
            "Successfully installed validators-0.33.0 vit-keras-0.1.2\n"
          ]
        }
      ],
      "source": [
        "!pip install vit-keras"
      ]
    },
    {
      "cell_type": "code",
      "execution_count": null,
      "metadata": {
        "colab": {
          "background_save": true,
          "base_uri": "https://localhost:8080/"
        },
        "id": "mQqgCd46s-a_",
        "outputId": "3ab5e33d-7302-4695-b6f1-9a2fde334b48"
      },
      "outputs": [
        {
          "name": "stdout",
          "output_type": "stream",
          "text": [
            "Requirement already satisfied: vit-keras in /usr/local/lib/python3.10/dist-packages (0.1.2)\n",
            "Requirement already satisfied: tensorflow-addons in /usr/local/lib/python3.10/dist-packages (0.23.0)\n",
            "Requirement already satisfied: scipy in /usr/local/lib/python3.10/dist-packages (from vit-keras) (1.13.1)\n",
            "Requirement already satisfied: validators in /usr/local/lib/python3.10/dist-packages (from vit-keras) (0.33.0)\n",
            "Requirement already satisfied: packaging in /usr/local/lib/python3.10/dist-packages (from tensorflow-addons) (24.1)\n",
            "Requirement already satisfied: typeguard<3.0.0,>=2.7 in /usr/local/lib/python3.10/dist-packages (from tensorflow-addons) (2.13.3)\n",
            "Requirement already satisfied: numpy<2.3,>=1.22.4 in /usr/local/lib/python3.10/dist-packages (from scipy->vit-keras) (1.25.2)\n",
            "Found 5708 images belonging to 4 classes.\n",
            "Found 1273 images belonging to 4 classes.\n",
            "Downloading data from https://github.com/faustomorales/vit-keras/releases/download/dl/ViT-B_32_imagenet21k+imagenet2012.npz\n",
            "353253686/353253686 [==============================] - 10s 0us/step\n"
          ]
        },
        {
          "name": "stderr",
          "output_type": "stream",
          "text": [
            "/usr/local/lib/python3.10/dist-packages/vit_keras/utils.py:81: UserWarning: Resizing position embeddings from 12, 12 to 7, 7\n",
            "  warnings.warn(\n"
          ]
        },
        {
          "name": "stdout",
          "output_type": "stream",
          "text": [
            "Epoch 1/30\n",
            "179/179 [==============================] - ETA: 0s - loss: 1.5457 - accuracy: 0.7849"
          ]
        },
        {
          "name": "stderr",
          "output_type": "stream",
          "text": [
            "/usr/local/lib/python3.10/dist-packages/keras/src/engine/training.py:3103: UserWarning: You are saving your model as an HDF5 file via `model.save()`. This file format is considered legacy. We recommend using instead the native Keras format, e.g. `model.save('my_model.keras')`.\n",
            "  saving_api.save_model(\n"
          ]
        },
        {
          "name": "stdout",
          "output_type": "stream",
          "text": [
            "179/179 [==============================] - 166s 684ms/step - loss: 1.5457 - accuracy: 0.7849 - val_loss: 1.2146 - val_accuracy: 0.9175 - lr: 1.0000e-04\n",
            "Epoch 2/30\n",
            "179/179 [==============================] - 118s 660ms/step - loss: 1.2100 - accuracy: 0.9077 - val_loss: 1.0852 - val_accuracy: 0.9529 - lr: 1.0000e-04\n",
            "Epoch 3/30\n",
            "179/179 [==============================] - 106s 589ms/step - loss: 1.1073 - accuracy: 0.9308 - val_loss: 1.0563 - val_accuracy: 0.9442 - lr: 1.0000e-04\n",
            "Epoch 4/30\n",
            "179/179 [==============================] - 119s 662ms/step - loss: 1.0601 - accuracy: 0.9362 - val_loss: 0.9918 - val_accuracy: 0.9592 - lr: 1.0000e-04\n",
            "Epoch 5/30\n",
            "179/179 [==============================] - 124s 688ms/step - loss: 0.9846 - accuracy: 0.9488 - val_loss: 0.9212 - val_accuracy: 0.9599 - lr: 1.0000e-04\n",
            "Epoch 6/30\n",
            "179/179 [==============================] - 106s 593ms/step - loss: 0.8962 - accuracy: 0.9622 - val_loss: 0.9645 - val_accuracy: 0.9293 - lr: 1.0000e-04\n",
            "Epoch 7/30\n",
            "179/179 [==============================] - 105s 586ms/step - loss: 0.8637 - accuracy: 0.9580 - val_loss: 0.9283 - val_accuracy: 0.9513 - lr: 1.0000e-04\n",
            "Epoch 8/30\n",
            "179/179 [==============================] - 128s 717ms/step - loss: 0.7850 - accuracy: 0.9749 - val_loss: 0.8107 - val_accuracy: 0.9756 - lr: 2.0000e-05\n",
            "Epoch 9/30\n",
            "179/179 [==============================] - 123s 683ms/step - loss: 0.7645 - accuracy: 0.9811 - val_loss: 0.7522 - val_accuracy: 0.9827 - lr: 2.0000e-05\n",
            "Epoch 10/30\n",
            "179/179 [==============================] - 104s 581ms/step - loss: 0.7403 - accuracy: 0.9863 - val_loss: 0.7499 - val_accuracy: 0.9796 - lr: 2.0000e-05\n",
            "Epoch 11/30\n",
            "179/179 [==============================] - 103s 576ms/step - loss: 0.7254 - accuracy: 0.9877 - val_loss: 0.7392 - val_accuracy: 0.9796 - lr: 2.0000e-05\n",
            "Epoch 12/30\n",
            "179/179 [==============================] - 104s 580ms/step - loss: 0.7195 - accuracy: 0.9848 - val_loss: 0.7312 - val_accuracy: 0.9804 - lr: 2.0000e-05\n",
            "Epoch 13/30\n",
            "179/179 [==============================] - 123s 686ms/step - loss: 0.6975 - accuracy: 0.9890 - val_loss: 0.7020 - val_accuracy: 0.9874 - lr: 2.0000e-05\n",
            "Epoch 14/30\n",
            "179/179 [==============================] - 103s 577ms/step - loss: 0.6868 - accuracy: 0.9879 - val_loss: 0.7044 - val_accuracy: 0.9804 - lr: 2.0000e-05\n",
            "Epoch 15/30\n",
            "179/179 [==============================] - 117s 654ms/step - loss: 0.6706 - accuracy: 0.9879 - val_loss: 0.6693 - val_accuracy: 0.9890 - lr: 2.0000e-05\n",
            "Epoch 16/30\n",
            "179/179 [==============================] - 104s 580ms/step - loss: 0.6555 - accuracy: 0.9890 - val_loss: 0.6627 - val_accuracy: 0.9859 - lr: 2.0000e-05\n",
            "Epoch 17/30\n",
            "179/179 [==============================] - 105s 585ms/step - loss: 0.6412 - accuracy: 0.9881 - val_loss: 0.6418 - val_accuracy: 0.9866 - lr: 2.0000e-05\n",
            "Epoch 18/30\n",
            "179/179 [==============================] - 105s 585ms/step - loss: 0.6243 - accuracy: 0.9909 - val_loss: 0.6500 - val_accuracy: 0.9843 - lr: 2.0000e-05\n",
            "Epoch 19/30\n",
            "179/179 [==============================] - 104s 580ms/step - loss: 0.6070 - accuracy: 0.9912 - val_loss: 0.6188 - val_accuracy: 0.9890 - lr: 2.0000e-05\n",
            "Epoch 20/30\n",
            "179/179 [==============================] - 104s 576ms/step - loss: 0.5913 - accuracy: 0.9898 - val_loss: 0.6118 - val_accuracy: 0.9859 - lr: 2.0000e-05\n",
            "Epoch 21/30\n",
            "179/179 [==============================] - 103s 576ms/step - loss: 0.5687 - accuracy: 0.9933 - val_loss: 0.5957 - val_accuracy: 0.9866 - lr: 2.0000e-05\n",
            "Epoch 22/30\n",
            "179/179 [==============================] - 103s 576ms/step - loss: 0.5520 - accuracy: 0.9940 - val_loss: 0.5770 - val_accuracy: 0.9874 - lr: 2.0000e-05\n",
            "Epoch 23/30\n",
            "179/179 [==============================] - 103s 574ms/step - loss: 0.5402 - accuracy: 0.9916 - val_loss: 0.5795 - val_accuracy: 0.9804 - lr: 2.0000e-05\n",
            "Epoch 24/30\n",
            "179/179 [==============================] - 103s 573ms/step - loss: 0.5288 - accuracy: 0.9898 - val_loss: 0.5498 - val_accuracy: 0.9851 - lr: 2.0000e-05\n",
            "Epoch 25/30\n",
            "179/179 [==============================] - 104s 580ms/step - loss: 0.5101 - accuracy: 0.9914 - val_loss: 0.5318 - val_accuracy: 0.9866 - lr: 2.0000e-05\n",
            "Epoch 26/30\n",
            "179/179 [==============================] - 103s 575ms/step - loss: 0.4862 - accuracy: 0.9937 - val_loss: 0.5357 - val_accuracy: 0.9835 - lr: 2.0000e-05\n",
            "Epoch 27/30\n",
            "179/179 [==============================] - 116s 644ms/step - loss: 0.4743 - accuracy: 0.9918 - val_loss: 0.4981 - val_accuracy: 0.9906 - lr: 2.0000e-05\n",
            "Epoch 28/30\n",
            "179/179 [==============================] - 102s 570ms/step - loss: 0.4588 - accuracy: 0.9926 - val_loss: 0.4814 - val_accuracy: 0.9890 - lr: 2.0000e-05\n",
            "Epoch 29/30\n",
            "179/179 [==============================] - 103s 574ms/step - loss: 0.4385 - accuracy: 0.9946 - val_loss: 0.4639 - val_accuracy: 0.9890 - lr: 2.0000e-05\n",
            "Epoch 30/30\n",
            "179/179 [==============================] - 104s 578ms/step - loss: 0.4306 - accuracy: 0.9921 - val_loss: 0.4587 - val_accuracy: 0.9866 - lr: 2.0000e-05\n",
            "40/40 [==============================] - 8s 123ms/step - loss: 0.4981 - accuracy: 0.9906\n",
            "Test Loss: 0.4981306493282318, Test Accuracy: 0.9905734658241272\n"
          ]
        }
      ],
      "source": [
        "# Step 1: Install vit-keras and tensorflow-addons libraries\n",
        "!pip install vit-keras tensorflow-addons\n",
        "\n",
        "import tensorflow as tf\n",
        "from tensorflow.keras.preprocessing.image import ImageDataGenerator\n",
        "from tensorflow.keras.layers import Dense, GlobalAveragePooling2D, Dropout, Input\n",
        "from tensorflow.keras.optimizers import Adam\n",
        "from tensorflow.keras.callbacks import EarlyStopping, ModelCheckpoint, ReduceLROnPlateau\n",
        "from tensorflow.keras.regularizers import l2\n",
        "from tensorflow.keras.models import load_model, Model\n",
        "from vit_keras import vit\n",
        "\n",
        "# Define data augmentation parameters\n",
        "datagen = ImageDataGenerator(\n",
        "    rescale=1./255,\n",
        "    rotation_range=20,\n",
        "    width_shift_range=0.2,\n",
        "    height_shift_range=0.2,\n",
        "    shear_range=0.2,\n",
        "    zoom_range=0.2,\n",
        "    horizontal_flip=True,\n",
        "    fill_mode='nearest',\n",
        "    brightness_range=[0.8, 1.2]  # Added brightness range\n",
        ")\n",
        "\n",
        "# Load training data with augmentation\n",
        "train_generator = datagen.flow_from_directory(\n",
        "    '/content/Dataset Brain Tumor/Dataset Brain Tumor/Training Dataset',\n",
        "    target_size=(224, 224),  # Change to 224x224\n",
        "    batch_size=32,\n",
        "    class_mode='categorical'\n",
        ")\n",
        "\n",
        "# Load testing data without augmentation\n",
        "test_datagen = ImageDataGenerator(rescale=1./255)\n",
        "test_generator = test_datagen.flow_from_directory(\n",
        "    '/content/Dataset Brain Tumor/Dataset Brain Tumor/Testing Dataset',\n",
        "    target_size=(224, 224),  # Change to 224x224\n",
        "    batch_size=32,\n",
        "    class_mode='categorical'\n",
        ")\n",
        "\n",
        "# Load ViT model\n",
        "vit_model = vit.vit_b32(\n",
        "    image_size=224,\n",
        "    pretrained=True,\n",
        "    include_top=True,  # Ensure include_top is True\n",
        ")\n",
        "\n",
        "# Create a new model with ViT base\n",
        "input_layer = Input(shape=(224, 224, 3))\n",
        "vit_output = vit_model(input_layer)\n",
        "\n",
        "# Use the ViT output for classification\n",
        "x = Dense(1024, activation='relu', kernel_regularizer=l2(0.001))(vit_output)\n",
        "x = Dropout(0.5)(x)\n",
        "x = Dense(4, activation='softmax')(x)\n",
        "\n",
        "# Create the final model\n",
        "model = Model(inputs=input_layer, outputs=x)\n",
        "\n",
        "# Compile the model\n",
        "model.compile(optimizer=Adam(learning_rate=0.0001), loss='categorical_crossentropy', metrics=['accuracy'])\n",
        "\n",
        "# Define callbacks\n",
        "early_stopping = EarlyStopping(monitor='val_loss', patience=5, restore_best_weights=True)\n",
        "checkpoint = ModelCheckpoint('best_model.h5', monitor='val_accuracy', save_best_only=True)\n",
        "reduce_lr = ReduceLROnPlateau(monitor='val_loss', factor=0.2, patience=2, min_lr=1e-6)\n",
        "\n",
        "# Train the model\n",
        "history = model.fit(\n",
        "    train_generator,\n",
        "    epochs=30,\n",
        "    validation_data=test_generator,\n",
        "    callbacks=[early_stopping, checkpoint, reduce_lr]\n",
        ")\n",
        "\n",
        "# Step 3: Evaluate the best model\n",
        "\n",
        "# Load the best model based on validation accuracy\n",
        "best_model = load_model('best_model.h5')\n",
        "\n",
        "# Evaluate the performance of the best model on the test dataset\n",
        "evaluation = best_model.evaluate(test_generator)\n",
        "print(f\"Test Loss: {evaluation[0]}, Test Accuracy: {evaluation[1]}\")\n"
      ]
    },
    {
      "cell_type": "code",
      "execution_count": 1,
      "metadata": {
        "colab": {
          "base_uri": "https://localhost:8080/",
          "height": 607
        },
        "id": "hna9HUB2mkAk",
        "outputId": "69600aa8-b971-48ee-9303-f8a9d1d08d24"
      },
      "outputs": [
        {
          "output_type": "display_data",
          "data": {
            "text/plain": [
              "<Figure size 1200x600 with 2 Axes>"
            ],
            "image/png": "[encoded data removed]"
          },
          "metadata": {}
        }
      ],
      "source": [
        "import matplotlib.pyplot as plt\n",
        "\n",
        "# Data from your training process\n",
        "epochs = list(range(1, 31))\n",
        "train_loss = [1.5457, 1.2100, 1.1073, 1.0601, 0.9846, 0.8962, 0.8637, 0.7850, 0.7645, 0.7403,\n",
        "              0.7254, 0.7195, 0.6975, 0.6868, 0.6706, 0.6555, 0.6412, 0.6243, 0.6070, 0.5913,\n",
        "              0.5687, 0.5520, 0.5402, 0.5288, 0.5101, 0.4862, 0.4743, 0.4588, 0.4385, 0.4306]\n",
        "val_loss = [1.2146, 1.0852, 1.0563, 0.9918, 0.9212, 0.9645, 0.9283, 0.8107, 0.7522, 0.7499,\n",
        "            0.7392, 0.7312, 0.7020, 0.7044, 0.6693, 0.6627, 0.6418, 0.6500, 0.6188, 0.6118,\n",
        "            0.5957, 0.5770, 0.5795, 0.5498, 0.5318, 0.5357, 0.4981, 0.4814, 0.4639, 0.4587]\n",
        "train_acc = [0.7849, 0.9077, 0.9308, 0.9362, 0.9488, 0.9622, 0.9580, 0.9749, 0.9811, 0.9863,\n",
        "              0.9877, 0.9848, 0.9890, 0.9879, 0.9879, 0.9890, 0.9881, 0.9909, 0.9912, 0.9898,\n",
        "              0.9933, 0.9940, 0.9916, 0.9898, 0.9914, 0.9937, 0.9918, 0.9926, 0.9946, 0.9921]\n",
        "val_acc = [0.9175, 0.9529, 0.9442, 0.9592, 0.9599, 0.9293, 0.9513, 0.9756, 0.9827, 0.9796,\n",
        "           0.9796, 0.9804, 0.9874, 0.9804, 0.9890, 0.9859, 0.9866, 0.9843, 0.9890, 0.9859,\n",
        "           0.9866, 0.9874, 0.9804, 0.9851, 0.9866, 0.9835, 0.9906, 0.9890, 0.9890, 0.9866]\n",
        "\n",
        "# Plotting training and validation loss\n",
        "plt.figure(figsize=(12, 6))\n",
        "\n",
        "plt.subplot(1, 2, 1)\n",
        "plt.plot(epochs, train_loss, label='Training Loss')\n",
        "plt.plot(epochs, val_loss, label='Validation Loss')\n",
        "plt.xlabel('Epochs')\n",
        "plt.ylabel('Loss')\n",
        "plt.title('Training and Validation Loss')\n",
        "plt.legend()\n",
        "plt.grid(True)\n",
        "\n",
        "# Plotting training and validation accuracy\n",
        "plt.subplot(1, 2, 2)\n",
        "plt.plot(epochs, train_acc, label='Training Accuracy')\n",
        "plt.plot(epochs, val_acc, label='Validation Accuracy')\n",
        "plt.xlabel('Epochs')\n",
        "plt.ylabel('Accuracy')\n",
        "plt.title('Training and Validation Accuracy')\n",
        "plt.legend()\n",
        "plt.grid(True)\n",
        "\n",
        "plt.tight_layout()\n",
        "plt.show()\n"
      ]
    }
  ],
  "metadata": {
    "accelerator": "GPU",
    "colab": {
      "gpuType": "T4",
      "provenance": []
    },
    "kernelspec": {
      "display_name": "Python 3",
      "name": "python3"
    },
    "language_info": {
      "name": "python"
    }
  },
  "nbformat": 4,
  "nbformat_minor": 0
}